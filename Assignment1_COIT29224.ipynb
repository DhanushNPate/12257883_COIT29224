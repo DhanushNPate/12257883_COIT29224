{
 "cells": [
  {
   "cell_type": "markdown",
   "id": "f1b4de81-3d21-4f82-aebb-6be62e6065a7",
   "metadata": {},
   "source": [
    "**Section\tA:\tProblem\tStatement\t–\tEnhancing\tNeural\tNetwork\tPerformance\twith Particle\tSwarm\tOptimization**\t\n"
   ]
  },
  {
   "cell_type": "code",
   "execution_count": 1,
   "id": "0bc5e524-23ed-4d6c-9343-39d4d1273661",
   "metadata": {},
   "outputs": [],
   "source": [
    "# I coose Predicting\tsecondary\tschool\tstudent\tperformance\tusing\ta\tdouble\tparticle\tswarm optimization-based\tcategorical\tboosting\tmodel\n",
    "# link - (https://www.sciencedirect.com/science/article/abs/pii/S0952197623008333)"
   ]
  },
  {
   "cell_type": "code",
   "execution_count": 2,
   "id": "a04725ae-4827-4bca-acac-af18dd1adc94",
   "metadata": {},
   "outputs": [
    {
     "name": "stdout",
     "output_type": "stream",
     "text": [
      "Download complete!\n"
     ]
    }
   ],
   "source": [
    "# Use Python's requests Module to download the file directly in Jupyter Notebook\n",
    "import requests\n",
    "\n",
    "# URL of the dataset\n",
    "url = \"https://archive.ics.uci.edu/ml/machine-learning-databases/00320/student.zip\"\n",
    "\n",
    "# Send HTTP request\n",
    "response = requests.get(url)\n",
    "\n",
    "# Save the content to a zip file\n",
    "with open(\"student-performance.zip\", \"wb\") as file:\n",
    "    file.write(response.content)\n",
    "\n",
    "print(\"Download complete!\")"
   ]
  },
  {
   "cell_type": "code",
   "execution_count": 3,
   "id": "bcc24cbc-3233-44ed-ac96-2b3020fa1b93",
   "metadata": {},
   "outputs": [
    {
     "name": "stdout",
     "output_type": "stream",
     "text": [
      "Extraction complete!\n"
     ]
    }
   ],
   "source": [
    "# Extract the ZIP File\n",
    "import zipfile\n",
    "\n",
    "# Extract the dataset\n",
    "with zipfile.ZipFile(\"student-performance.zip\", 'r') as zip_ref:\n",
    "    zip_ref.extractall(\"student_performance\")\n",
    "\n",
    "print(\"Extraction complete!\")\n",
    "\n"
   ]
  },
  {
   "cell_type": "code",
   "execution_count": 4,
   "id": "5a434d41-c976-45ac-9723-a1583c6217b2",
   "metadata": {},
   "outputs": [
    {
     "data": {
      "text/html": [
       "<div>\n",
       "<style scoped>\n",
       "    .dataframe tbody tr th:only-of-type {\n",
       "        vertical-align: middle;\n",
       "    }\n",
       "\n",
       "    .dataframe tbody tr th {\n",
       "        vertical-align: top;\n",
       "    }\n",
       "\n",
       "    .dataframe thead th {\n",
       "        text-align: right;\n",
       "    }\n",
       "</style>\n",
       "<table border=\"1\" class=\"dataframe\">\n",
       "  <thead>\n",
       "    <tr style=\"text-align: right;\">\n",
       "      <th></th>\n",
       "      <th>school</th>\n",
       "      <th>sex</th>\n",
       "      <th>age</th>\n",
       "      <th>address</th>\n",
       "      <th>famsize</th>\n",
       "      <th>Pstatus</th>\n",
       "      <th>Medu</th>\n",
       "      <th>Fedu</th>\n",
       "      <th>Mjob</th>\n",
       "      <th>Fjob</th>\n",
       "      <th>...</th>\n",
       "      <th>famrel</th>\n",
       "      <th>freetime</th>\n",
       "      <th>goout</th>\n",
       "      <th>Dalc</th>\n",
       "      <th>Walc</th>\n",
       "      <th>health</th>\n",
       "      <th>absences</th>\n",
       "      <th>G1</th>\n",
       "      <th>G2</th>\n",
       "      <th>G3</th>\n",
       "    </tr>\n",
       "  </thead>\n",
       "  <tbody>\n",
       "    <tr>\n",
       "      <th>0</th>\n",
       "      <td>GP</td>\n",
       "      <td>F</td>\n",
       "      <td>18</td>\n",
       "      <td>U</td>\n",
       "      <td>GT3</td>\n",
       "      <td>A</td>\n",
       "      <td>4</td>\n",
       "      <td>4</td>\n",
       "      <td>at_home</td>\n",
       "      <td>teacher</td>\n",
       "      <td>...</td>\n",
       "      <td>4</td>\n",
       "      <td>3</td>\n",
       "      <td>4</td>\n",
       "      <td>1</td>\n",
       "      <td>1</td>\n",
       "      <td>3</td>\n",
       "      <td>6</td>\n",
       "      <td>5</td>\n",
       "      <td>6</td>\n",
       "      <td>6</td>\n",
       "    </tr>\n",
       "    <tr>\n",
       "      <th>1</th>\n",
       "      <td>GP</td>\n",
       "      <td>F</td>\n",
       "      <td>17</td>\n",
       "      <td>U</td>\n",
       "      <td>GT3</td>\n",
       "      <td>T</td>\n",
       "      <td>1</td>\n",
       "      <td>1</td>\n",
       "      <td>at_home</td>\n",
       "      <td>other</td>\n",
       "      <td>...</td>\n",
       "      <td>5</td>\n",
       "      <td>3</td>\n",
       "      <td>3</td>\n",
       "      <td>1</td>\n",
       "      <td>1</td>\n",
       "      <td>3</td>\n",
       "      <td>4</td>\n",
       "      <td>5</td>\n",
       "      <td>5</td>\n",
       "      <td>6</td>\n",
       "    </tr>\n",
       "    <tr>\n",
       "      <th>2</th>\n",
       "      <td>GP</td>\n",
       "      <td>F</td>\n",
       "      <td>15</td>\n",
       "      <td>U</td>\n",
       "      <td>LE3</td>\n",
       "      <td>T</td>\n",
       "      <td>1</td>\n",
       "      <td>1</td>\n",
       "      <td>at_home</td>\n",
       "      <td>other</td>\n",
       "      <td>...</td>\n",
       "      <td>4</td>\n",
       "      <td>3</td>\n",
       "      <td>2</td>\n",
       "      <td>2</td>\n",
       "      <td>3</td>\n",
       "      <td>3</td>\n",
       "      <td>10</td>\n",
       "      <td>7</td>\n",
       "      <td>8</td>\n",
       "      <td>10</td>\n",
       "    </tr>\n",
       "    <tr>\n",
       "      <th>3</th>\n",
       "      <td>GP</td>\n",
       "      <td>F</td>\n",
       "      <td>15</td>\n",
       "      <td>U</td>\n",
       "      <td>GT3</td>\n",
       "      <td>T</td>\n",
       "      <td>4</td>\n",
       "      <td>2</td>\n",
       "      <td>health</td>\n",
       "      <td>services</td>\n",
       "      <td>...</td>\n",
       "      <td>3</td>\n",
       "      <td>2</td>\n",
       "      <td>2</td>\n",
       "      <td>1</td>\n",
       "      <td>1</td>\n",
       "      <td>5</td>\n",
       "      <td>2</td>\n",
       "      <td>15</td>\n",
       "      <td>14</td>\n",
       "      <td>15</td>\n",
       "    </tr>\n",
       "    <tr>\n",
       "      <th>4</th>\n",
       "      <td>GP</td>\n",
       "      <td>F</td>\n",
       "      <td>16</td>\n",
       "      <td>U</td>\n",
       "      <td>GT3</td>\n",
       "      <td>T</td>\n",
       "      <td>3</td>\n",
       "      <td>3</td>\n",
       "      <td>other</td>\n",
       "      <td>other</td>\n",
       "      <td>...</td>\n",
       "      <td>4</td>\n",
       "      <td>3</td>\n",
       "      <td>2</td>\n",
       "      <td>1</td>\n",
       "      <td>2</td>\n",
       "      <td>5</td>\n",
       "      <td>4</td>\n",
       "      <td>6</td>\n",
       "      <td>10</td>\n",
       "      <td>10</td>\n",
       "    </tr>\n",
       "  </tbody>\n",
       "</table>\n",
       "<p>5 rows × 33 columns</p>\n",
       "</div>"
      ],
      "text/plain": [
       "  school sex  age address famsize Pstatus  Medu  Fedu     Mjob      Fjob  ...  \\\n",
       "0     GP   F   18       U     GT3       A     4     4  at_home   teacher  ...   \n",
       "1     GP   F   17       U     GT3       T     1     1  at_home     other  ...   \n",
       "2     GP   F   15       U     LE3       T     1     1  at_home     other  ...   \n",
       "3     GP   F   15       U     GT3       T     4     2   health  services  ...   \n",
       "4     GP   F   16       U     GT3       T     3     3    other     other  ...   \n",
       "\n",
       "  famrel freetime  goout  Dalc  Walc health absences  G1  G2  G3  \n",
       "0      4        3      4     1     1      3        6   5   6   6  \n",
       "1      5        3      3     1     1      3        4   5   5   6  \n",
       "2      4        3      2     2     3      3       10   7   8  10  \n",
       "3      3        2      2     1     1      5        2  15  14  15  \n",
       "4      4        3      2     1     2      5        4   6  10  10  \n",
       "\n",
       "[5 rows x 33 columns]"
      ]
     },
     "execution_count": 4,
     "metadata": {},
     "output_type": "execute_result"
    }
   ],
   "source": [
    "#  Load the Dataset\n",
    "import pandas as pd\n",
    "\n",
    "# Load the student performance dataset\n",
    "df = pd.read_csv(\"student_performance/student-mat.csv\", sep=\";\")\n",
    "\n",
    "# Display the first few rows\n",
    "df.head()\n"
   ]
  },
  {
   "cell_type": "code",
   "execution_count": 5,
   "id": "0d73f635-2eee-4930-96fd-8284d2033130",
   "metadata": {},
   "outputs": [
    {
     "name": "stdout",
     "output_type": "stream",
     "text": [
      "Requirement already satisfied: pyswarm in c:\\users\\patel\\appdata\\local\\programs\\python\\python312\\lib\\site-packages (0.6)\n",
      "Requirement already satisfied: numpy in c:\\users\\patel\\appdata\\local\\programs\\python\\python312\\lib\\site-packages (from pyswarm) (1.26.4)\n"
     ]
    },
    {
     "name": "stderr",
     "output_type": "stream",
     "text": [
      "\n",
      "[notice] A new release of pip is available: 24.0 -> 25.0.1\n",
      "[notice] To update, run: python.exe -m pip install --upgrade pip\n"
     ]
    }
   ],
   "source": [
    "!pip install pyswarm\n"
   ]
  },
  {
   "cell_type": "code",
   "execution_count": 6,
   "id": "16150b07-e5f3-49c9-b3b7-f12e0a10d70f",
   "metadata": {},
   "outputs": [],
   "source": [
    "from pyswarm import pso"
   ]
  },
  {
   "cell_type": "code",
   "execution_count": 7,
   "id": "20618656-448b-4fea-8cc8-2bf60f0a73f5",
   "metadata": {},
   "outputs": [],
   "source": [
    "# Import Libraries\n",
    "import random\n",
    "import warnings\n",
    "import numpy as np\n",
    "import pandas as pd\n",
    "import tensorflow as tf\n",
    "from sklearn.model_selection import train_test_split, GridSearchCV\n",
    "from sklearn.preprocessing import StandardScaler\n",
    "from sklearn.metrics import accuracy_score\n",
    "from pyswarm import pso  # PSO optimization library\n",
    "\n",
    "# Suppress warnings\n",
    "warnings.filterwarnings(\"ignore\")\n"
   ]
  },
  {
   "cell_type": "code",
   "execution_count": 8,
   "id": "cc590c69-6b4e-45f9-8a4b-d1e875927926",
   "metadata": {},
   "outputs": [],
   "source": [
    "# PSO-NN Model for Hyperparameter Optimization\n",
    "\n",
    "import random\n",
    "import warnings\n",
    "from sklearn.neural_network import MLPClassifier  # Import MLPClassifier\n",
    "from sklearn.metrics import accuracy_score\n",
    "from sklearn.preprocessing import StandardScaler\n",
    "from sklearn.model_selection import train_test_split\n",
    "\n",
    "\n",
    "\n",
    "# Load dataset (modify based on your actual data)\n",
    "df = pd.read_csv(\"student_performance/student-mat.csv\", sep=\";\")\n",
    "df_encoded = pd.get_dummies(df, drop_first=True)  # One-hot encoding categorical columns\n",
    "\n",
    "X = df_encoded.drop(\"G3\", axis=1)  # Features (all except target column 'G3')\n",
    "y = df_encoded[\"G3\"]  # Target variable (final grade 'G3')"
   ]
  },
  {
   "cell_type": "code",
   "execution_count": 9,
   "id": "e2f5c27a-adaf-40f5-bcc3-896c29ce0e36",
   "metadata": {},
   "outputs": [],
   "source": [
    "# Scale features\n",
    "scaler = StandardScaler()\n",
    "X_scaled = scaler.fit_transform(X)\n",
    "\n",
    "# Split the data\n",
    "X_train, X_test, y_train, y_test = train_test_split(X_scaled, y, test_size=0.2, random_state=42)"
   ]
  },
  {
   "cell_type": "code",
   "execution_count": 10,
   "id": "361e21b7-ff43-4f06-81af-8c9956b832a4",
   "metadata": {},
   "outputs": [],
   "source": [
    "# PSO Configuration\n",
    "SWARM_SIZE = 10\n",
    "DIMENSIONS = 2  # [learning rate, hidden layer size]\n",
    "NUM_GENERATIONS = 20\n",
    "W = 0.729  # Inertia weight\n",
    "C1 = 1.49  # Cognitive weight\n",
    "C2 = 1.49  # Social weight\n",
    "MIN_BOUNDARY = [0.0001, 5]  # Minimum learning rate, minimum hidden neurons\n",
    "MAX_BOUNDARY = [0.1, 100]  # Maximum learning rate, maximum hidden neurons\n"
   ]
  },
  {
   "cell_type": "code",
   "execution_count": 11,
   "id": "191debe2-8b42-477a-9fb7-c9797929d55d",
   "metadata": {},
   "outputs": [],
   "source": [
    "# Fitness function\n",
    "def fitness_function(position):\n",
    "    lr = position[0]\n",
    "    hidden = int(position[1])  # Convert to integer for hidden layer size\n",
    "    if hidden <= 0:\n",
    "        hidden = 1  # Ensure hidden layer size is positive\n",
    "\n",
    "    model = MLPClassifier(hidden_layer_sizes=(hidden,), learning_rate_init=lr, max_iter=200, random_state=42)\n",
    "    model.fit(X_train, y_train)\n",
    "    \n",
    "    # Evaluate performance on the test set\n",
    "    y_pred = model.predict(X_test)\n",
    "    acc = accuracy_score(y_test, y_pred)  # Accuracy as fitness function\n",
    "    return 1 - acc  # We want to minimize error\n"
   ]
  },
  {
   "cell_type": "code",
   "execution_count": 12,
   "id": "7904edd7-6b9a-4c16-899a-f7be54b368ec",
   "metadata": {},
   "outputs": [],
   "source": [
    "# Particle Class (for PSO)\n",
    "class Particle:\n",
    "    def __init__(self):\n",
    "        self.position = [\n",
    "            random.uniform(MIN_BOUNDARY[0], MAX_BOUNDARY[0]),\n",
    "            random.uniform(MIN_BOUNDARY[1], MAX_BOUNDARY[1])\n",
    "        ]\n",
    "        self.velocity = [random.uniform(-1, 1) for _ in range(DIMENSIONS)]\n",
    "        self.fitness = fitness_function(self.position)\n",
    "        self.best_position = list(self.position)\n",
    "        self.best_fitness = self.fitness\n",
    "        self.informants = random.sample(range(SWARM_SIZE), 3)\n",
    "        self.group_best_position = list(self.position)\n",
    "        self.group_best_fitness = self.fitness\n",
    "\n",
    "    def update_velocity(self):\n",
    "        for d in range(DIMENSIONS):\n",
    "            r1, r2 = random.random(), random.random()\n",
    "            cognitive = C1 * r1 * (self.best_position[d] - self.position[d])\n",
    "            social = C2 * r2 * (self.group_best_position[d] - self.position[d])\n",
    "            self.velocity[d] = W * self.velocity[d] + cognitive + social\n",
    "\n",
    "    def update_position(self):\n",
    "        for d in range(DIMENSIONS):\n",
    "            self.position[d] += self.velocity[d]\n",
    "            self.position[d] = max(MIN_BOUNDARY[d], min(MAX_BOUNDARY[d], self.position[d]))\n",
    "        self.fitness = fitness_function(self.position)\n",
    "\n",
    "    def update_group_best(self, swarm):\n",
    "        best_informant = min(self.informants, key=lambda i: swarm[i].best_fitness)\n",
    "        if swarm[best_informant].best_fitness < self.group_best_fitness:\n",
    "            self.group_best_fitness = swarm[best_informant].best_fitness\n",
    "            self.group_best_position = list(swarm[best_informant].best_position)"
   ]
  },
  {
   "cell_type": "code",
   "execution_count": 13,
   "id": "0fe20b42-62a1-4867-a7f9-27469f63def5",
   "metadata": {},
   "outputs": [
    {
     "name": "stdout",
     "output_type": "stream",
     "text": [
      "Generation 1: Best Accuracy = 0.2658\n",
      "Generation 2: Best Accuracy = 0.3165\n",
      "Generation 3: Best Accuracy = 0.3165\n",
      "Generation 4: Best Accuracy = 0.3165\n",
      "Generation 5: Best Accuracy = 0.3165\n",
      "Generation 6: Best Accuracy = 0.3165\n",
      "Generation 7: Best Accuracy = 0.3165\n",
      "Generation 8: Best Accuracy = 0.3165\n",
      "Generation 9: Best Accuracy = 0.3165\n",
      "Generation 10: Best Accuracy = 0.3165\n",
      "Generation 11: Best Accuracy = 0.3165\n",
      "Generation 12: Best Accuracy = 0.3165\n",
      "Generation 13: Best Accuracy = 0.3165\n",
      "Generation 14: Best Accuracy = 0.3165\n",
      "Generation 15: Best Accuracy = 0.3165\n",
      "Generation 16: Best Accuracy = 0.3165\n",
      "Generation 17: Best Accuracy = 0.3165\n",
      "Generation 18: Best Accuracy = 0.3165\n",
      "Generation 19: Best Accuracy = 0.3165\n",
      "Generation 20: Best Accuracy = 0.3165\n",
      "\n",
      "PSO Optimization Complete!\n",
      "Best Learning Rate: 0.10000\n",
      "Best Hidden Neurons: 95\n"
     ]
    }
   ],
   "source": [
    "# PSO main loop\n",
    "swarm = [Particle() for _ in range(SWARM_SIZE)]\n",
    "global_best = min(swarm, key=lambda p: p.best_fitness)\n",
    "global_best_position = list(global_best.best_position)\n",
    "global_best_fitness = global_best.best_fitness\n",
    "\n",
    "for gen in range(NUM_GENERATIONS):\n",
    "    for particle in swarm:\n",
    "        particle.update_group_best(swarm)\n",
    "        particle.update_velocity()\n",
    "        particle.update_position()\n",
    "        if particle.fitness < particle.best_fitness:\n",
    "            particle.best_fitness = particle.fitness\n",
    "            particle.best_position = list(particle.position)\n",
    "\n",
    "    best_particle = min(swarm, key=lambda p: p.best_fitness)\n",
    "    if best_particle.best_fitness < global_best_fitness:\n",
    "        global_best_fitness = best_particle.best_fitness\n",
    "        global_best_position = list(best_particle.best_position)\n",
    "\n",
    "    print(f\"Generation {gen + 1}: Best Accuracy = {1 - global_best_fitness:.4f}\")\n",
    "\n",
    "print(\"\\nPSO Optimization Complete!\")\n",
    "print(f\"Best Learning Rate: {global_best_position[0]:.5f}\")\n",
    "print(f\"Best Hidden Neurons: {int(global_best_position[1])}\")"
   ]
  },
  {
   "cell_type": "code",
   "execution_count": 14,
   "id": "fb02715d-4da5-4bee-b3fc-af3772c793f9",
   "metadata": {},
   "outputs": [],
   "source": [
    "# Traditionally Optimized Neural Network using Grid Search\n",
    "\n",
    "#import library\n",
    "\n",
    "import time\n",
    "from sklearn.model_selection import GridSearchCV\n",
    "from sklearn.neural_network import MLPClassifier\n"
   ]
  },
  {
   "cell_type": "code",
   "execution_count": 15,
   "id": "9942c909-0cd9-467c-a373-23370ea372fa",
   "metadata": {},
   "outputs": [],
   "source": [
    "# Define parameter grid for grid search\n",
    "param_grid = {\n",
    "    'hidden_layer_sizes': [(10,), (50,), (100,)],\n",
    "    'learning_rate_init': [0.001, 0.01, 0.1],\n",
    "    'max_iter': [200]\n",
    "}\n",
    "\n",
    "# Initialize the model\n",
    "mlp = MLPClassifier(random_state=42)"
   ]
  },
  {
   "cell_type": "code",
   "execution_count": 16,
   "id": "045c675f-9797-43cc-9cf3-3996e7123219",
   "metadata": {},
   "outputs": [],
   "source": [
    "# Perform Grid Search\n",
    "grid_search = GridSearchCV(mlp, param_grid, cv=5, scoring='accuracy')\n",
    "start_time = time.time()\n",
    "grid_search.fit(X_train, y_train)\n",
    "grid_search_time = time.time() - start_time\n"
   ]
  },
  {
   "cell_type": "code",
   "execution_count": 17,
   "id": "e2fd00fa-fcb9-4fed-8b90-dd4c0dba40e9",
   "metadata": {},
   "outputs": [
    {
     "name": "stdout",
     "output_type": "stream",
     "text": [
      "Best parameters from Grid Search: {'hidden_layer_sizes': (100,), 'learning_rate_init': 0.01, 'max_iter': 200}\n",
      "Best Accuracy from Grid Search: 0.24365079365079367\n"
     ]
    }
   ],
   "source": [
    "# Print the best parameters and the corresponding accuracy\n",
    "print(\"Best parameters from Grid Search:\", grid_search.best_params_)\n",
    "print(\"Best Accuracy from Grid Search:\", grid_search.best_score_)"
   ]
  },
  {
   "cell_type": "code",
   "execution_count": 18,
   "id": "31a7f959-fff9-4a17-8e9c-c61207d00258",
   "metadata": {},
   "outputs": [
    {
     "name": "stdout",
     "output_type": "stream",
     "text": [
      "Test Accuracy from Grid Search: 0.2658\n",
      "Grid Search Time: 11.23 seconds\n"
     ]
    }
   ],
   "source": [
    "# Evaluate on the test set\n",
    "best_mlp = grid_search.best_estimator_\n",
    "y_pred_grid = best_mlp.predict(X_test)\n",
    "grid_accuracy = accuracy_score(y_test, y_pred_grid)\n",
    "print(f\"Test Accuracy from Grid Search: {grid_accuracy:.4f}\")\n",
    "print(f\"Grid Search Time: {grid_search_time:.2f} seconds\")"
   ]
  },
  {
   "cell_type": "code",
   "execution_count": 19,
   "id": "c2bc8916-a128-4b0f-af09-792c9aeaaff0",
   "metadata": {},
   "outputs": [
    {
     "name": "stdout",
     "output_type": "stream",
     "text": [
      "\n",
      "--- Final Results Comparison ---\n",
      "PSO-NN Test Accuracy: 0.3165\n",
      "Grid Search Test Accuracy: 0.2658\n",
      "PSO-NN Time: 7.62 seconds\n",
      "Grid Search Time: 11.23 seconds\n"
     ]
    }
   ],
   "source": [
    "# Final Evaluation\n",
    "\n",
    "# Display comparison results\n",
    "print(\"\\n--- Final Results Comparison ---\")\n",
    "print(f\"PSO-NN Test Accuracy: {1 - global_best_fitness:.4f}\")\n",
    "print(f\"Grid Search Test Accuracy: {grid_accuracy:.4f}\")\n",
    "print(f\"PSO-NN Time: {sum([particle.fitness for particle in swarm]):.2f} seconds\")\n",
    "print(f\"Grid Search Time: {grid_search_time:.2f} seconds\")\n"
   ]
  },
  {
   "cell_type": "code",
   "execution_count": null,
   "id": "e921bf9a-d5e8-4c36-ab55-d803c546c418",
   "metadata": {},
   "outputs": [],
   "source": []
  }
 ],
 "metadata": {
  "kernelspec": {
   "display_name": "Python 3 (ipykernel)",
   "language": "python",
   "name": "python3"
  },
  "language_info": {
   "codemirror_mode": {
    "name": "ipython",
    "version": 3
   },
   "file_extension": ".py",
   "mimetype": "text/x-python",
   "name": "python",
   "nbconvert_exporter": "python",
   "pygments_lexer": "ipython3",
   "version": "3.12.4"
  }
 },
 "nbformat": 4,
 "nbformat_minor": 5
}
